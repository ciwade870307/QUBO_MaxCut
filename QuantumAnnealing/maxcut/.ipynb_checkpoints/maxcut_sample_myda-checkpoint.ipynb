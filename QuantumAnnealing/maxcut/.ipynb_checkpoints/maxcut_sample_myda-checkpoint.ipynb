{
 "cells": [
  {
   "cell_type": "code",
   "execution_count": 1,
   "metadata": {},
   "outputs": [],
   "source": [
    "import time\n",
    "import numpy as np\n",
    "import matplotlib.pyplot as plt\n",
    "from numpy import linalg as la\n",
    "import pickle\n",
    "from glob import glob\n",
    "from tqdm import tqdm\n",
    "import sys\n",
    "sys.path.insert(0, '..')\n",
    "from DA4 import DA\n",
    "# from qap2qubo import *\n",
    "# from penalty_weight import *"
   ]
  },
  {
   "cell_type": "code",
   "execution_count": 2,
   "metadata": {},
   "outputs": [],
   "source": [
    "def myDA(Q, init_bin, maxStep=1000, betaStart=0.1, betaStop=50, E_offset_increase_rate=0, plot_p=True):\n",
    "    \n",
    "    N = Q.shape[0]\n",
    "    Q_norm_coef = la.norm(Q, 'fro')*N\n",
    "    Q = Q/np.sqrt(Q_norm_coef)\n",
    "\n",
    "    x = init_bin\n",
    "    init_e = Q@init_bin\n",
    "    \n",
    "    # betaList = np.linspace(betaStart, betaStop, maxStep)\n",
    "    tempStart = 1/betaStart\n",
    "    tempEnd = 1/betaStop\n",
    "    decay = (tempEnd / tempStart)**(1/(maxStep-1))\n",
    "    betaList = [1/(tempStart * decay**i) for i in range(maxStep)]\n",
    "\n",
    "    E_offset = 0\n",
    "    E_best = 999999999\n",
    "    pList = []\n",
    "\n",
    "    for idx_step, beta in enumerate(betaList):\n",
    "        # I: Trial phase\n",
    "        idx_ones = np.squeeze(x)\n",
    "        sum_partial = np.sum(Q[:,idx_ones],1).reshape(-1,1)\n",
    "        dE = np.multiply((2*(1-2*x)),sum_partial)+np.diag(Q).reshape(-1,1)\n",
    "        # p = np.exp(-(dE-E_offset)*beta)\n",
    "        # idx_rand = np.argmax(p)\n",
    "        # print(idx_rand)\n",
    "        p = np.minimum(np.exp(-(dE-E_offset)*beta), 1.) # Acceptance Probility \n",
    "        accepted = np.random.binomial(1, np.squeeze(p), N)\n",
    "        # II: Update phase\n",
    "        if( np.any(accepted) ):\n",
    "        # if( ~idx_rand ):\n",
    "            idx_rand = np.random.choice(accepted.nonzero()[0])\n",
    "            x[idx_rand] ^= True\n",
    "            E_offset = 0\n",
    "            pList.append(p[idx_rand])\n",
    "        else:\n",
    "            E_offset += E_offset_increase_rate\n",
    "            pList.append(0)\n",
    "\n",
    "        E_current = x.T@Q@x\n",
    "        if( E_current < E_best):\n",
    "            E_best = E_current\n",
    "            x_best = x \n",
    "\n",
    "    if plot_p:\n",
    "        plt.figure(figsize=(8,4))\n",
    "        plt.grid()\n",
    "        plt.plot(pList, label=\"Acceptance Prob.\", color='r', marker='.', linewidth=1.0, linestyle='')\n",
    "        # plt.plot(1/np.array(betaList), label=\"Acceptance Prob.\", color='r', marker='', linewidth=1.0, linestyle='-')\n",
    "        plt.legend(loc='upper right')\n",
    "        # plt.xticks(self.N*self.self.maxStep)\n",
    "        plt.xlabel('MC steps', fontsize=13)\n",
    "        plt.ylabel('Acceptance Prob.', fontsize=13)\n",
    "        plt.show()\n",
    "\n",
    "    return x_best"
   ]
  },
  {
   "cell_type": "code",
   "execution_count": 3,
   "metadata": {},
   "outputs": [],
   "source": [
    "def bqp_test(path=\"../data/g05/\", file=\"g05\", iters=1000, spin=False, betaStart=0.01, betaStop=0.1, E_offset_increase_rate=0, b_matrix=False):\n",
    "\n",
    "    data_list = [tag for tag in glob(\"{}/{}*\".format(path, file))]\n",
    "    solution_file = open(\"{}/solution.txt\".format(path), \"r\").readlines()\n",
    "    solution = {}\n",
    "    for s in solution_file:\n",
    "        f, v = s.split(\" \")\n",
    "        if b_matrix == True :\n",
    "            solution[f] = int(v)\n",
    "        else :\n",
    "            solution[f] = -int(v)\n",
    "\n",
    "    output_file = open(\"hist_result/myda_{}hist{}.txt\".format(file, iters), \"w\")\n",
    "    data_list = np.sort(data_list)\n",
    "    run=1\n",
    "    for data in tqdm(data_list):\n",
    "        sv = solution[data.split(\"/\")[-1]]\n",
    "        distribution = np.zeros(10)\n",
    "        t = 0\n",
    "        min_e = 0\n",
    "        f = open(data, \"r\").readlines()\n",
    "\n",
    "        bin_size = f[0].split(\" \")[0]\n",
    "        Q = np.zeros([int(bin_size) + 0, int(bin_size) + 0])\n",
    "        init_bin = np.zeros((int(bin_size),1), dtype=np.bool)\n",
    "        # init_bin[-1] = 1\n",
    "        for ele in f[1:]:\n",
    "            i, j, v = ele.split()\n",
    "            if b_matrix == True :\n",
    "                Q[int(i) - 1, int(j) - 1] += int(v)\n",
    "                if (int(i) != int(j)):\n",
    "                    Q[int(j) - 1, int(i) - 1] += int(v)\n",
    "            else :\n",
    "                if (int(i) == int(j)) :\n",
    "                    print('No edge connected at the same Node',int(i),int(j))\n",
    "                else :\n",
    "                    Q[int(i) - 1, int(j) - 1] += int(v)\n",
    "                    Q[int(j) - 1, int(i) - 1] += int(v)\n",
    "                    Q[int(i) - 1, int(i) - 1] += -int(v)\n",
    "                    Q[int(j) - 1, int(j) - 1] += -int(v)\n",
    "\n",
    "        for n in tqdm(range(run)):\n",
    "            #### annealing ####\n",
    "            # init_e = init_bin @ Q\n",
    "            start_time = time.time()\n",
    "            x = myDA(Q, init_bin, maxStep=iters, betaStart=betaStart, betaStop=betaStop, E_offset_increase_rate=E_offset_increase_rate)\n",
    "            total_time = time.time() - start_time\n",
    "            output = np.squeeze(x.T@Q@x)\n",
    "            # print(output)\n",
    "            print(\"solution\", sv, output)\n",
    "\n",
    "            if output < min_e :\n",
    "                min_e = output\n",
    "\n",
    "            if (sv - output) >= 0:\n",
    "                l = 0\n",
    "                distribution[0] += 1\n",
    "                # t += total_time\n",
    "                print('find optimal solution', sv, output)\n",
    "                # break\n",
    "            else:\n",
    "                l = int(np.ceil((abs((sv - output) / sv) * 100)))\n",
    "                if l > 9:\n",
    "                    l = 9\n",
    "                distribution[l] += 1\n",
    "            t += total_time\n",
    "    \n",
    "        output_file.write(\"{}\\t{}\\t{}\\t{}\\n\".format(data.split(\"/\")[-1].split(\".\")[0], min_e, t, distribution))\n",
    "        output_file.flush()"
   ]
  },
  {
   "cell_type": "code",
   "execution_count": 4,
   "metadata": {},
   "outputs": [
    {
     "name": "stderr",
     "output_type": "stream",
     "text": [
      "  0%|          | 0/1 [00:00<?, ?it/s]"
     ]
    },
    {
     "name": "stdout",
     "output_type": "stream",
     "text": [
      "[[0. 0. 0. ... 0. 0. 0.]\n",
      " [0. 0. 0. ... 0. 0. 0.]\n",
      " [0. 0. 0. ... 0. 0. 0.]\n",
      " ...\n",
      " [0. 0. 0. ... 0. 0. 0.]\n",
      " [0. 0. 0. ... 0. 0. 0.]\n",
      " [0. 0. 0. ... 0. 0. 0.]]\n"
     ]
    },
    {
     "name": "stderr",
     "output_type": "stream",
     "text": [
      "/home/r09_ciwade870307/.local/lib/python3.7/site-packages/numpy/core/_asarray.py:136: VisibleDeprecationWarning: Creating an ndarray from ragged nested sequences (which is a list-or-tuple of lists-or-tuples-or ndarrays with different lengths or shapes) is deprecated. If you meant to do this, you must specify 'dtype=object' when creating the ndarray\n",
      "  return array(a, dtype, copy=False, order=order, subok=True)\n"
     ]
    },
    {
     "data": {
      "image/png": "[encoded data removed]",
      "text/plain": [
       "<Figure size 576x288 with 1 Axes>"
      ]
     },
     "metadata": {
      "needs_background": "light"
     },
     "output_type": "display_data"
    },
    {
     "name": "stderr",
     "output_type": "stream",
     "text": [
      "100%|██████████| 1/1 [00:25<00:00, 25.89s/it]\n",
      "100%|██████████| 1/1 [00:25<00:00, 25.95s/it]"
     ]
    },
    {
     "name": "stdout",
     "output_type": "stream",
     "text": [
      "solution -1430 -1425.0\n"
     ]
    },
    {
     "name": "stderr",
     "output_type": "stream",
     "text": [
      "\n"
     ]
    }
   ],
   "source": [
    "bqp_test(file=\"g05_100.0\", iters=10000, betaStart=0.1, betaStop=10000, E_offset_increase_rate=0.1)"
   ]
  }
 ],
 "metadata": {
  "kernelspec": {
   "display_name": "Python 3",
   "language": "python",
   "name": "python3"
  },
  "language_info": {
   "codemirror_mode": {
    "name": "ipython",
    "version": 3
   },
   "file_extension": ".py",
   "mimetype": "text/x-python",
   "name": "python",
   "nbconvert_exporter": "python",
   "pygments_lexer": "ipython3",
   "version": "3.6.9"
  },
  "vscode": {
   "interpreter": {
    "hash": "fd69f43f58546b570e94fd7eba7b65e6bcc7a5bbc4eab0408017d18902915d69"
   }
  }
 },
 "nbformat": 4,
 "nbformat_minor": 2
}
